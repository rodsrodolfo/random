{
  "nbformat": 4,
  "nbformat_minor": 0,
  "metadata": {
    "colab": {
      "name": "magforce_example.ipynb",
      "provenance": []
    },
    "kernelspec": {
      "name": "python3",
      "display_name": "Python 3"
    }
  },
  "cells": [
    {
      "cell_type": "markdown",
      "metadata": {
        "id": "8KWRPrnUeD9n",
        "colab_type": "text"
      },
      "source": [
        "*   installing dependencies\n"
      ]
    },
    {
      "cell_type": "code",
      "metadata": {
        "id": "ePkqWeVgdz2K",
        "colab_type": "code",
        "colab": {}
      },
      "source": [
        "!pip install magforce\n",
        "!pip install magpylib\n",
        "!pip install numpy\n",
        "!pip install matplotlib"
      ],
      "execution_count": null,
      "outputs": []
    },
    {
      "cell_type": "markdown",
      "metadata": {
        "id": "4cVhkiZCeTDh",
        "colab_type": "text"
      },
      "source": [
        "* importing packages"
      ]
    },
    {
      "cell_type": "code",
      "metadata": {
        "id": "cEZYAuhMeXiZ",
        "colab_type": "code",
        "colab": {}
      },
      "source": [
        "from numpy import linspace, pi\n",
        "from matplotlib.pyplot import show, figure\n",
        "from matplotlib import rcParams\n",
        "from magpylib.source.magnet import Cylinder\n",
        "from magpylib import Collection, displaySystem\n",
        "\n",
        "import magforce as mgf\n",
        "\n",
        "# make figures bigger on notebook\n",
        "width = 15\n",
        "height = 5\n",
        "rcParams['figure.figsize'] = [width, height]"
      ],
      "execution_count": 2,
      "outputs": []
    },
    {
      "cell_type": "markdown",
      "metadata": {
        "id": "r_QEs5eOecAc",
        "colab_type": "text"
      },
      "source": [
        "* defining a cobalt spherical sample, with 4mm diameter, Ms of 1.4e6 A/m and demagnetizing factor of 1/3\n",
        "\n",
        "* the sample variable needs to be a dictionary for magforce's functions to work, and it must include the 'demagnetizing_factor', 'volume' and 'M_saturation' keys"
      ]
    },
    {
      "cell_type": "code",
      "metadata": {
        "id": "qZMuCZF9eydt",
        "colab_type": "code",
        "colab": {}
      },
      "source": [
        "demagnetizing_factor = 1/3             # sphere\n",
        "volume = 4 / 3 * pi * (4 / 1000) ** 3  # V sphere r=4mm [m3]\n",
        "M_saturation = 1.400e6                 # Ms Co room temperature [A/m]\n",
        "sample = {'demagnetizing_factor': demagnetizing_factor, 'volume': volume, 'M_saturation': M_saturation}"
      ],
      "execution_count": 3,
      "outputs": []
    },
    {
      "cell_type": "markdown",
      "metadata": {
        "id": "VVXxtdmLf66r",
        "colab_type": "text"
      },
      "source": [
        "* defining a magnet collection\n",
        "  * it consists of a single cylinder with a 5mm diameter and 20mm height\n",
        "  * its top surface is at z = 0\n",
        "* the my_collection is a magpylib.Collection instance (see [magpylib](https://magpylib.readthedocs.io/en/latest/) for more information)"
      ]
    },
    {
      "cell_type": "code",
      "metadata": {
        "id": "o2pgcgQ9gOIN",
        "colab_type": "code",
        "colab": {}
      },
      "source": [
        "m1 = Cylinder(mag=[0, 0, 1000], dim=[5, 20], pos=[0, 0, -10])\n",
        "my_collection = Collection(m1)"
      ],
      "execution_count": 4,
      "outputs": []
    },
    {
      "cell_type": "markdown",
      "metadata": {
        "id": "NWZny9M6gReE",
        "colab_type": "text"
      },
      "source": [
        "* displaying the collection"
      ]
    },
    {
      "cell_type": "code",
      "metadata": {
        "id": "rOB3fFdOgT_M",
        "colab_type": "code",
        "colab": {}
      },
      "source": [
        "collection_fig = figure(num='System Display')\n",
        "collection_ax = collection_fig.add_subplot(projection='3d')\n",
        "displaySystem(my_collection, direc=True, markers=[(0, 0, 0)], suppress=False, subplotAx=collection_ax)"
      ],
      "execution_count": null,
      "outputs": []
    },
    {
      "cell_type": "markdown",
      "metadata": {
        "id": "75DWmPM5gcWK",
        "colab_type": "text"
      },
      "source": [
        "* plotting 1D along x\n",
        "  * x from -30 to 30 , 1000 points\n",
        "  * y = 0\n",
        "  * z = 0"
      ]
    },
    {
      "cell_type": "code",
      "metadata": {
        "id": "MGGbpzYbgryv",
        "colab_type": "code",
        "colab": {}
      },
      "source": [
        "# Plotting 1D along x\n",
        "\n",
        "xs = linspace(-30, 30, 1000)\n",
        "y = 0\n",
        "z = 0\n",
        "\n",
        "mgf.plot_1D_along_x(xs, y, z, my_collection, sample=sample, BF='BF', saveCSV=False)"
      ],
      "execution_count": null,
      "outputs": []
    },
    {
      "cell_type": "markdown",
      "metadata": {
        "id": "0_LDoNqTgiyW",
        "colab_type": "text"
      },
      "source": [
        "* plotting 1D along y\n",
        "  * x = 0\n",
        "  * y from -30 to 30 , 1000 points\n",
        "  * z = 0"
      ]
    },
    {
      "cell_type": "code",
      "metadata": {
        "id": "u8zRNun2hCpQ",
        "colab_type": "code",
        "colab": {}
      },
      "source": [
        "# Plotting 1D along y\n",
        "\n",
        "x = 0\n",
        "ys = linspace(-30, 30, 1000)\n",
        "z = 0\n",
        "\n",
        "mgf.plot_1D_along_y(x, ys, z, my_collection, sample=sample, BF='BF', saveCSV=False)"
      ],
      "execution_count": null,
      "outputs": []
    },
    {
      "cell_type": "markdown",
      "metadata": {
        "id": "zkvs3WpGglC3",
        "colab_type": "text"
      },
      "source": [
        "* plotting 1D along z\n",
        "  * x = 0\n",
        "  * y = 0\n",
        "  * z from 0 to 30 , 1000 points"
      ]
    },
    {
      "cell_type": "code",
      "metadata": {
        "id": "gesxD3WMhNvx",
        "colab_type": "code",
        "colab": {}
      },
      "source": [
        "# Plotting 1D along z\n",
        "\n",
        "x = 0\n",
        "y = 0\n",
        "zs = linspace(0, 30, 1000)\n",
        "\n",
        "mgf.plot_1D_along_z(x, y, zs, my_collection, sample=sample, BF='BF', saveCSV=False)"
      ],
      "execution_count": null,
      "outputs": []
    },
    {
      "cell_type": "markdown",
      "metadata": {
        "id": "uir3fcUBhd8n",
        "colab_type": "text"
      },
      "source": [
        "* plotting 2D on x plane\n",
        "  * x = 0\n",
        "  * y from -30 to 30 , 1000 points\n",
        "  * z from 0 to 30 , 1000 points"
      ]
    },
    {
      "cell_type": "code",
      "metadata": {
        "id": "MUfVvIQTiEg2",
        "colab_type": "code",
        "colab": {}
      },
      "source": [
        "# Plotting 2D on x\n",
        "\n",
        "x = 0\n",
        "ys = linspace(-30, 30, 35)\n",
        "zs = linspace(0, 30, 35)\n",
        "\n",
        "mgf.plot_2D_plane_x(x, ys, zs, my_collection, sample=sample, modes=['stream', 'quiver', 'surface'], BF='BF', saveCSV=False)"
      ],
      "execution_count": null,
      "outputs": []
    },
    {
      "cell_type": "markdown",
      "metadata": {
        "id": "sRp0FpjLhrtu",
        "colab_type": "text"
      },
      "source": [
        "* plotting 2D on y plane\n",
        "  * x from -30 to 30 , 1000 points\n",
        "  * y = 0\n",
        "  * z from 0 to 30 , 1000 points"
      ]
    },
    {
      "cell_type": "code",
      "metadata": {
        "id": "LsotWkUViE9C",
        "colab_type": "code",
        "colab": {}
      },
      "source": [
        "# Plotting 2D on y\n",
        "\n",
        "xs = linspace(-30, 30, 35)\n",
        "y = 0\n",
        "zs = linspace(0, 30, 35)\n",
        "\n",
        "mgf.plot_2D_plane_y(xs, y, zs, my_collection, sample=sample, modes=['stream', 'quiver', 'surface'], BF='BF', saveCSV=False)"
      ],
      "execution_count": null,
      "outputs": []
    },
    {
      "cell_type": "markdown",
      "metadata": {
        "id": "VIX0Hzj6hrfd",
        "colab_type": "text"
      },
      "source": [
        "* plotting 2D on z plane\n",
        "  * x from -30 to 30 , 1000 points\n",
        "  * y from -30 to 30 , 1000 points\n",
        "  * z = 0"
      ]
    },
    {
      "cell_type": "code",
      "metadata": {
        "id": "iaQRbioiiF7j",
        "colab_type": "code",
        "colab": {}
      },
      "source": [
        "# Plotting 2D on z\n",
        "\n",
        "xs = linspace(-30, 30, 35)\n",
        "ys = linspace(-30, 30, 35)\n",
        "z = 0\n",
        "\n",
        "mgf.plot_2D_plane_z(xs, ys, z, my_collection, sample=sample, modes=['stream', 'quiver', 'surface'], BF='BF', saveCSV=False)"
      ],
      "execution_count": null,
      "outputs": []
    },
    {
      "cell_type": "markdown",
      "metadata": {
        "id": "_aqaubFviSi8",
        "colab_type": "text"
      },
      "source": [
        "* plotting 3D\n",
        "  * x from -30 to 30 , 1000 points\n",
        "  * y from -30 to 30 , 1000 points\n",
        "  * z from 0 to 30 , 1000 points"
      ]
    },
    {
      "cell_type": "code",
      "metadata": {
        "id": "CiuRXp6iiaQ6",
        "colab_type": "code",
        "colab": {}
      },
      "source": [
        "# Plotting 3D\n",
        "\n",
        "xs = linspace(-30, 30, 7)\n",
        "ys = linspace(-30, 30, 7)\n",
        "zs = linspace(0, 30, 7)\n",
        "\n",
        "mgf.plot_3D(xs, ys, zs, my_collection, sample=sample, BF='BF', saveCSV=False)"
      ],
      "execution_count": null,
      "outputs": []
    }
  ]
}